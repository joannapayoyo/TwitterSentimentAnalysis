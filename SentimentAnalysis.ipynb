{
 "cells": [
  {
   "cell_type": "markdown",
   "metadata": {},
   "source": [
    "# Importing Libraries"
   ]
  },
  {
   "cell_type": "code",
   "execution_count": 1,
   "metadata": {},
   "outputs": [],
   "source": [
    "import sys\n",
    "import io\n",
    "import textblob\n",
    "from textblob import TextBlob\n",
    "import tweepy\n",
    "from tweepy import OAuthHandler\n",
    "import re as re\n",
    "import numpy as np\n",
    "import pandas as pd\n",
    "from os import path\n",
    "from PIL import Image\n",
    "from wordcloud import WordCloud, STOPWORDS, ImageColorGenerator\n",
    "from datetime import datetime\n",
    "\n",
    "import matplotlib.pyplot as plt\n",
    "%matplotlib inline\n",
    "\n",
    "#TUTORIAL: https://www.datacamp.com/community/tutorials/wordcloud-python"
   ]
  },
  {
   "cell_type": "markdown",
   "metadata": {},
   "source": [
    "# Get Tweets"
   ]
  },
  {
   "cell_type": "code",
   "execution_count": 2,
   "metadata": {},
   "outputs": [
    {
     "name": "stdout",
     "output_type": "stream",
     "text": [
      "Max of 5000 tweets are requested\n",
      "Downloaded 1999 tweets\n"
     ]
    }
   ],
   "source": [
    "# Replace the API_KEY and API_SECRET with your application's key and secret.\n",
    "ckey = \"XjFwLTGuvCYX3PUoPHDoCMbT1\"\n",
    "csecret = \"KeIa69uyKAAv6jeCLaT1lC19Y6Q7vI0upsIrVeAMwKZq4yHvmA\"\n",
    "atoken = \"228985267-ZiPdBxOnpjMxgGaD1y2pnE1W05UzqjB4RTjD1GCI\"\n",
    "asecret = \"WACvIuXKj3quOZf8bK3UjFjgrJzY4Q3lO6kyMhrMR3woQ\"\n",
    "\n",
    "auth = OAuthHandler(ckey, csecret)\n",
    "auth.set_access_token(atoken, asecret)\n",
    "\n",
    "api = tweepy.API(auth, wait_on_rate_limit=True, wait_on_rate_limit_notify=True)\n",
    "\n",
    "if (not api):\n",
    "    print (\"Can't Authenticate\")\n",
    "    sys.exit(-1)\n",
    "\n",
    "searchQuery = \"women technology -nail -lash -filter:retweets\"  # this is what we're searching for\n",
    "filterText = ''  # To filter returned tweets based on a second filter\n",
    "maxTweets = 5000  # Some arbitrary large number\n",
    "tweetsPerQry = 100  # this is the max the API permits\n",
    "\n",
    "# If results from a specific ID onwards are reqd, set since_id to that ID.\n",
    "# else default to no lower limit, go as far back as API allows\n",
    "sinceId = None\n",
    "\n",
    "# If results only below a specific ID are, set max_id to that ID.\n",
    "# else default to no upper limit, start from the most recent tweet matching the search query.\n",
    "max_id = 0\n",
    "\n",
    "tweetCount = 0\n",
    "print(\"Max of {0} tweets are requested\".format(maxTweets))\n",
    "\n",
    "\n",
    "# To filter returned tweets based on a second filter\n",
    "def tweetFilter(text, filterText):\n",
    "    if ((filterText in text)):\n",
    "\n",
    "        return True\n",
    "    else:\n",
    "        return False\n",
    "\n",
    "fString = \"new.csv\"\n",
    "fName = fString.format(tweetCount)  # We'll store the tweets in a text file.\n",
    "f = io.open(fName, encoding='utf-8', mode='w')\n",
    "\n",
    "\n",
    "loopMax = 20\n",
    "loopCounter = 0\n",
    "\n",
    "f.write('created_at' + ',' + 'full_text' + ',' + 'retweet' + ',' + \n",
    "                'favorites' + '\\n')\n",
    "\n",
    "while ((tweetCount < maxTweets) and (loopCounter < loopMax)):\n",
    "    loopCounter += 1\n",
    "    try:\n",
    "        if (not sinceId):\n",
    "            new_tweets = api.search(q=searchQuery, count=tweetsPerQry, lang=\"en\", max_id=str(max_id - 1), tweet_mode='extended')\n",
    "        else:\n",
    "            new_tweets = api.search(q=searchQuery, count=tweetsPerQry, lang=\"en\", max_id=str(max_id - 1),\n",
    "                                    since_id=sinceId)\n",
    "\n",
    "        if not new_tweets:\n",
    "            # print(\"No more tweets found\")\n",
    "            break\n",
    "\n",
    "        for tweet in new_tweets:\n",
    "            if (tweetFilter(tweet._json['full_text'], filterText)):\n",
    "                f.write(tweet._json['created_at'] + ',' + ((tweet._json['full_text']).replace(\"\\n\", \" \")).replace(\",\",\" \") +\n",
    "                         ',' + str(tweet._json['retweet_count']) + ',' + str(tweet._json['favorite_count']) + '\\n')\n",
    "                tweetCount += 1\n",
    "\n",
    "        max_id = new_tweets[-1].id\n",
    "    except tweepy.TweepError as e:\n",
    "        # Just exit if any error\n",
    "        print(\"some error : \" + str(e))\n",
    "        break\n",
    "\n",
    "print(\"Downloaded {0} tweets\".format(tweetCount))\n",
    "f.close()"
   ]
  },
  {
   "cell_type": "markdown",
   "metadata": {},
   "source": [
    "# Create Pandas Dataframe"
   ]
  },
  {
   "cell_type": "code",
   "execution_count": 3,
   "metadata": {},
   "outputs": [
    {
     "data": {
      "text/plain": [
       "(1954, 4)"
      ]
     },
     "execution_count": 3,
     "metadata": {},
     "output_type": "execute_result"
    }
   ],
   "source": [
    "df = pd.read_csv(fString)\n",
    "\n",
    "pd.set_option('max_colwidth', 500)\n",
    "df.shape"
   ]
  },
  {
   "cell_type": "code",
   "execution_count": 4,
   "metadata": {},
   "outputs": [
    {
     "data": {
      "text/html": [
       "<div>\n",
       "<style scoped>\n",
       "    .dataframe tbody tr th:only-of-type {\n",
       "        vertical-align: middle;\n",
       "    }\n",
       "\n",
       "    .dataframe tbody tr th {\n",
       "        vertical-align: top;\n",
       "    }\n",
       "\n",
       "    .dataframe thead th {\n",
       "        text-align: right;\n",
       "    }\n",
       "</style>\n",
       "<table border=\"1\" class=\"dataframe\">\n",
       "  <thead>\n",
       "    <tr style=\"text-align: right;\">\n",
       "      <th></th>\n",
       "      <th>created_at</th>\n",
       "      <th>full_text</th>\n",
       "      <th>retweet</th>\n",
       "      <th>favorites</th>\n",
       "    </tr>\n",
       "  </thead>\n",
       "  <tbody>\n",
       "    <tr>\n",
       "      <th>0</th>\n",
       "      <td>Tue Apr 16 19:30:29 +0000 2019</td>\n",
       "      <td>In this edition of JHM Sibley  get acquainted with our integrative approach to women's care and holistic well-being. Learn about exciting new additions in imaging technology and sleep research  gain insights from our team and view upcoming programs. https://t.co/8u587xKcre https://t.co/DwkLR7xJ2F</td>\n",
       "      <td>0</td>\n",
       "      <td>0</td>\n",
       "    </tr>\n",
       "    <tr>\n",
       "      <th>1</th>\n",
       "      <td>Tue Apr 16 19:26:43 +0000 2019</td>\n",
       "      <td>@recursecenter Instead  it can be powerful to be clear about what you really mean:  Inclusion of “people of color and white women ” which is an explicit acknowledgment of groups currently excluded from participation in technology  listed in order of severity.  Though even this may be incomplete</td>\n",
       "      <td>0</td>\n",
       "      <td>3</td>\n",
       "    </tr>\n",
       "    <tr>\n",
       "      <th>2</th>\n",
       "      <td>Tue Apr 16 19:17:57 +0000 2019</td>\n",
       "      <td>In our efforts to encourage more women to experiment with technology  we created the LED Ribbon “Feather Flower” Kit. Now women who love to make and #DIYfashion can add light to… https://t.co/uKUVwrPCGJ</td>\n",
       "      <td>0</td>\n",
       "      <td>1</td>\n",
       "    </tr>\n",
       "    <tr>\n",
       "      <th>3</th>\n",
       "      <td>Tue Apr 16 19:00:41 +0000 2019</td>\n",
       "      <td>We kicked up the style quotient with bold colours  glossy uppers  and a slimmer  more streamlined silhouette you can wear all day. Expect the same OOFOAM™ technology as the OOriginal with a narrower footbed designed specifically for women. https://t.co/yPzcFA3tBp #ukrunchat https://t.co/bidmslq5nf</td>\n",
       "      <td>0</td>\n",
       "      <td>0</td>\n",
       "    </tr>\n",
       "    <tr>\n",
       "      <th>4</th>\n",
       "      <td>Tue Apr 16 18:58:42 +0000 2019</td>\n",
       "      <td>The Technology Safety and Privacy Toolkit is an online toolkit for Canadian women experiencing technology-facilitated violence to learn how they can increase their technology safety and privacy. cc @landvdotnet https://t.co/pCVOO4q0JH</td>\n",
       "      <td>0</td>\n",
       "      <td>1</td>\n",
       "    </tr>\n",
       "  </tbody>\n",
       "</table>\n",
       "</div>"
      ],
      "text/plain": [
       "                       created_at  \\\n",
       "0  Tue Apr 16 19:30:29 +0000 2019   \n",
       "1  Tue Apr 16 19:26:43 +0000 2019   \n",
       "2  Tue Apr 16 19:17:57 +0000 2019   \n",
       "3  Tue Apr 16 19:00:41 +0000 2019   \n",
       "4  Tue Apr 16 18:58:42 +0000 2019   \n",
       "\n",
       "                                                                                                                                                                                                                                                                                                    full_text  \\\n",
       "0   In this edition of JHM Sibley  get acquainted with our integrative approach to women's care and holistic well-being. Learn about exciting new additions in imaging technology and sleep research  gain insights from our team and view upcoming programs. https://t.co/8u587xKcre https://t.co/DwkLR7xJ2F   \n",
       "1     @recursecenter Instead  it can be powerful to be clear about what you really mean:  Inclusion of “people of color and white women ” which is an explicit acknowledgment of groups currently excluded from participation in technology  listed in order of severity.  Though even this may be incomplete   \n",
       "2                                                                                                  In our efforts to encourage more women to experiment with technology  we created the LED Ribbon “Feather Flower” Kit. Now women who love to make and #DIYfashion can add light to… https://t.co/uKUVwrPCGJ   \n",
       "3  We kicked up the style quotient with bold colours  glossy uppers  and a slimmer  more streamlined silhouette you can wear all day. Expect the same OOFOAM™ technology as the OOriginal with a narrower footbed designed specifically for women. https://t.co/yPzcFA3tBp #ukrunchat https://t.co/bidmslq5nf   \n",
       "4                                                                  The Technology Safety and Privacy Toolkit is an online toolkit for Canadian women experiencing technology-facilitated violence to learn how they can increase their technology safety and privacy. cc @landvdotnet https://t.co/pCVOO4q0JH   \n",
       "\n",
       "   retweet  favorites  \n",
       "0        0          0  \n",
       "1        0          3  \n",
       "2        0          1  \n",
       "3        0          0  \n",
       "4        0          1  "
      ]
     },
     "execution_count": 4,
     "metadata": {},
     "output_type": "execute_result"
    }
   ],
   "source": [
    "df.head()"
   ]
  },
  {
   "cell_type": "markdown",
   "metadata": {},
   "source": [
    "# Clean Tweets"
   ]
  },
  {
   "cell_type": "code",
   "execution_count": 5,
   "metadata": {},
   "outputs": [
    {
     "data": {
      "text/html": [
       "<div>\n",
       "<style scoped>\n",
       "    .dataframe tbody tr th:only-of-type {\n",
       "        vertical-align: middle;\n",
       "    }\n",
       "\n",
       "    .dataframe tbody tr th {\n",
       "        vertical-align: top;\n",
       "    }\n",
       "\n",
       "    .dataframe thead th {\n",
       "        text-align: right;\n",
       "    }\n",
       "</style>\n",
       "<table border=\"1\" class=\"dataframe\">\n",
       "  <thead>\n",
       "    <tr style=\"text-align: right;\">\n",
       "      <th></th>\n",
       "      <th>created_at</th>\n",
       "      <th>full_text</th>\n",
       "      <th>retweet</th>\n",
       "      <th>favorites</th>\n",
       "      <th>clean_tweet</th>\n",
       "    </tr>\n",
       "  </thead>\n",
       "  <tbody>\n",
       "    <tr>\n",
       "      <th>0</th>\n",
       "      <td>Tue Apr 16 19:30:29 +0000 2019</td>\n",
       "      <td>In this edition of JHM Sibley  get acquainted with our integrative approach to women's care and holistic well-being. Learn about exciting new additions in imaging technology and sleep research  gain insights from our team and view upcoming programs. https://t.co/8u587xKcre https://t.co/DwkLR7xJ2F</td>\n",
       "      <td>0</td>\n",
       "      <td>0</td>\n",
       "      <td>In this edition of JHM Sibley  get acquainted with our integrative approach to women's care and holistic well-being. Learn about exciting new additions in imaging technology and sleep research  gain insights from our team and view upcoming programs. https://t.co/8u587xKcre https://t.co/DwkLR7xJ2F</td>\n",
       "    </tr>\n",
       "    <tr>\n",
       "      <th>1</th>\n",
       "      <td>Tue Apr 16 19:26:43 +0000 2019</td>\n",
       "      <td>@recursecenter Instead  it can be powerful to be clear about what you really mean:  Inclusion of “people of color and white women ” which is an explicit acknowledgment of groups currently excluded from participation in technology  listed in order of severity.  Though even this may be incomplete</td>\n",
       "      <td>0</td>\n",
       "      <td>3</td>\n",
       "      <td>@recursecenter Instead  it can be powerful to be clear about what you really mean:  Inclusion of “people of color and white women ” which is an explicit acknowledgment of groups currently excluded from participation in technology  listed in order of severity.  Though even this may be incomplete</td>\n",
       "    </tr>\n",
       "    <tr>\n",
       "      <th>2</th>\n",
       "      <td>Tue Apr 16 19:17:57 +0000 2019</td>\n",
       "      <td>In our efforts to encourage more women to experiment with technology  we created the LED Ribbon “Feather Flower” Kit. Now women who love to make and #DIYfashion can add light to… https://t.co/uKUVwrPCGJ</td>\n",
       "      <td>0</td>\n",
       "      <td>1</td>\n",
       "      <td>In our efforts to encourage more women to experiment with technology  we created the LED Ribbon “Feather Flower” Kit. Now women who love to make and #DIYfashion can add light to… https://t.co/uKUVwrPCGJ</td>\n",
       "    </tr>\n",
       "    <tr>\n",
       "      <th>3</th>\n",
       "      <td>Tue Apr 16 19:00:41 +0000 2019</td>\n",
       "      <td>We kicked up the style quotient with bold colours  glossy uppers  and a slimmer  more streamlined silhouette you can wear all day. Expect the same OOFOAM™ technology as the OOriginal with a narrower footbed designed specifically for women. https://t.co/yPzcFA3tBp #ukrunchat https://t.co/bidmslq5nf</td>\n",
       "      <td>0</td>\n",
       "      <td>0</td>\n",
       "      <td>We kicked up the style quotient with bold colours  glossy uppers  and a slimmer  more streamlined silhouette you can wear all day. Expect the same OOFOAM™ technology as the OOriginal with a narrower footbed designed specifically for women. https://t.co/yPzcFA3tBp #ukrunchat https://t.co/bidmslq5nf</td>\n",
       "    </tr>\n",
       "    <tr>\n",
       "      <th>4</th>\n",
       "      <td>Tue Apr 16 18:58:42 +0000 2019</td>\n",
       "      <td>The Technology Safety and Privacy Toolkit is an online toolkit for Canadian women experiencing technology-facilitated violence to learn how they can increase their technology safety and privacy. cc @landvdotnet https://t.co/pCVOO4q0JH</td>\n",
       "      <td>0</td>\n",
       "      <td>1</td>\n",
       "      <td>The Technology Safety and Privacy Toolkit is an online toolkit for Canadian women experiencing technology-facilitated violence to learn how they can increase their technology safety and privacy. cc @landvdotnet https://t.co/pCVOO4q0JH</td>\n",
       "    </tr>\n",
       "  </tbody>\n",
       "</table>\n",
       "</div>"
      ],
      "text/plain": [
       "                       created_at  \\\n",
       "0  Tue Apr 16 19:30:29 +0000 2019   \n",
       "1  Tue Apr 16 19:26:43 +0000 2019   \n",
       "2  Tue Apr 16 19:17:57 +0000 2019   \n",
       "3  Tue Apr 16 19:00:41 +0000 2019   \n",
       "4  Tue Apr 16 18:58:42 +0000 2019   \n",
       "\n",
       "                                                                                                                                                                                                                                                                                                    full_text  \\\n",
       "0   In this edition of JHM Sibley  get acquainted with our integrative approach to women's care and holistic well-being. Learn about exciting new additions in imaging technology and sleep research  gain insights from our team and view upcoming programs. https://t.co/8u587xKcre https://t.co/DwkLR7xJ2F   \n",
       "1     @recursecenter Instead  it can be powerful to be clear about what you really mean:  Inclusion of “people of color and white women ” which is an explicit acknowledgment of groups currently excluded from participation in technology  listed in order of severity.  Though even this may be incomplete   \n",
       "2                                                                                                  In our efforts to encourage more women to experiment with technology  we created the LED Ribbon “Feather Flower” Kit. Now women who love to make and #DIYfashion can add light to… https://t.co/uKUVwrPCGJ   \n",
       "3  We kicked up the style quotient with bold colours  glossy uppers  and a slimmer  more streamlined silhouette you can wear all day. Expect the same OOFOAM™ technology as the OOriginal with a narrower footbed designed specifically for women. https://t.co/yPzcFA3tBp #ukrunchat https://t.co/bidmslq5nf   \n",
       "4                                                                  The Technology Safety and Privacy Toolkit is an online toolkit for Canadian women experiencing technology-facilitated violence to learn how they can increase their technology safety and privacy. cc @landvdotnet https://t.co/pCVOO4q0JH   \n",
       "\n",
       "   retweet  favorites  \\\n",
       "0        0          0   \n",
       "1        0          3   \n",
       "2        0          1   \n",
       "3        0          0   \n",
       "4        0          1   \n",
       "\n",
       "                                                                                                                                                                                                                                                                                                  clean_tweet  \n",
       "0   In this edition of JHM Sibley  get acquainted with our integrative approach to women's care and holistic well-being. Learn about exciting new additions in imaging technology and sleep research  gain insights from our team and view upcoming programs. https://t.co/8u587xKcre https://t.co/DwkLR7xJ2F  \n",
       "1     @recursecenter Instead  it can be powerful to be clear about what you really mean:  Inclusion of “people of color and white women ” which is an explicit acknowledgment of groups currently excluded from participation in technology  listed in order of severity.  Though even this may be incomplete  \n",
       "2                                                                                                  In our efforts to encourage more women to experiment with technology  we created the LED Ribbon “Feather Flower” Kit. Now women who love to make and #DIYfashion can add light to… https://t.co/uKUVwrPCGJ  \n",
       "3  We kicked up the style quotient with bold colours  glossy uppers  and a slimmer  more streamlined silhouette you can wear all day. Expect the same OOFOAM™ technology as the OOriginal with a narrower footbed designed specifically for women. https://t.co/yPzcFA3tBp #ukrunchat https://t.co/bidmslq5nf  \n",
       "4                                                                  The Technology Safety and Privacy Toolkit is an online toolkit for Canadian women experiencing technology-facilitated violence to learn how they can increase their technology safety and privacy. cc @landvdotnet https://t.co/pCVOO4q0JH  "
      ]
     },
     "execution_count": 5,
     "metadata": {},
     "output_type": "execute_result"
    }
   ],
   "source": [
    "df['clean_tweet'] = df['full_text'].map(lambda x: re.sub(r'[Ä|ô|ô|•|Ô|∏|è]+', '', x))\n",
    "df['clean_tweet'] = df['clean_tweet'].map(lambda x: re.sub(r'‚', '\\'', x))\n",
    "df['clean_tweet'] = df['clean_tweet'].map(lambda x: re.sub(r'\\&amp\\;', '&', x))\n",
    "df['clean_tweet'] = df['clean_tweet'].map(lambda x: re.sub(r'\\&gt\\;', '>', x))\n",
    "df['clean_tweet'] = df['clean_tweet'].map(lambda x: re.sub(r'\\&lt\\;', '<', x))\n",
    "\n",
    "df.head()\n"
   ]
  },
  {
   "cell_type": "code",
   "execution_count": 6,
   "metadata": {},
   "outputs": [],
   "source": [
    "dateTime=df['created_at'].str.split(' ',n=6,expand=True)\n",
    "df['day']=dateTime[0]\n",
    "df['month']=dateTime[1]\n",
    "df['dayNum']=dateTime[2]\n",
    "df['time']=dateTime[3]\n",
    "df['year']=dateTime[5]"
   ]
  },
  {
   "cell_type": "code",
   "execution_count": 7,
   "metadata": {},
   "outputs": [],
   "source": [
    "month={'Mar':3,'Apr':4}\n",
    "df['month']=[month[m] for m in df.month]\n",
    "\n",
    "weekday={'Sun':0,'Mon':1,'Tue':2,'Wed':3,'Thu':4,'Fri':5,'Sat':6}\n",
    "df['weekday']=df['day']\n",
    "df.day=[weekday[d] for d in df.day] "
   ]
  },
  {
   "cell_type": "markdown",
   "metadata": {},
   "source": [
    "# Sentiment Analysis"
   ]
  },
  {
   "cell_type": "code",
   "execution_count": 8,
   "metadata": {},
   "outputs": [],
   "source": [
    "def polarity(text):\n",
    "    return (TextBlob(text).sentiment)\n",
    "\n",
    "def subjectivity(text):\n",
    "    return (TextBlob(text).sentiment.subjectivity)\n",
    "\n",
    "def posNB(text):\n",
    "    blob=TextBlob(text, analyzer=NaiveBayesAnalyzer())\n",
    "    return (blob.sentiment.p_pos)\n",
    "\n",
    "def negNB(text):\n",
    "    blob=TextBlob(text, analyzer=NaiveBayesAnalyzer())\n",
    "    return (blob.sentiment.p_neg)\n",
    "\n",
    "df['sentiment_polarity'] = df['clean_tweet'].apply(polarity)\n",
    "df['sentiment_subjectivity'] = df['clean_tweet'].apply(subjectivity)\n",
    "\n",
    "dfOriginal=df"
   ]
  },
  {
   "cell_type": "markdown",
   "metadata": {},
   "source": [
    "# Describe Data"
   ]
  },
  {
   "cell_type": "code",
   "execution_count": 10,
   "metadata": {},
   "outputs": [
    {
     "data": {
      "text/html": [
       "<div>\n",
       "<style scoped>\n",
       "    .dataframe tbody tr th:only-of-type {\n",
       "        vertical-align: middle;\n",
       "    }\n",
       "\n",
       "    .dataframe tbody tr th {\n",
       "        vertical-align: top;\n",
       "    }\n",
       "\n",
       "    .dataframe thead th {\n",
       "        text-align: right;\n",
       "    }\n",
       "</style>\n",
       "<table border=\"1\" class=\"dataframe\">\n",
       "  <thead>\n",
       "    <tr style=\"text-align: right;\">\n",
       "      <th></th>\n",
       "      <th>retweet</th>\n",
       "      <th>favorites</th>\n",
       "      <th>day</th>\n",
       "      <th>month</th>\n",
       "      <th>sentiment_subjectivity</th>\n",
       "    </tr>\n",
       "  </thead>\n",
       "  <tbody>\n",
       "    <tr>\n",
       "      <th>count</th>\n",
       "      <td>1954.000000</td>\n",
       "      <td>1954.000000</td>\n",
       "      <td>1954.000000</td>\n",
       "      <td>1954.0</td>\n",
       "      <td>1954.000000</td>\n",
       "    </tr>\n",
       "    <tr>\n",
       "      <th>mean</th>\n",
       "      <td>2.068066</td>\n",
       "      <td>6.750768</td>\n",
       "      <td>3.186285</td>\n",
       "      <td>4.0</td>\n",
       "      <td>0.410699</td>\n",
       "    </tr>\n",
       "    <tr>\n",
       "      <th>std</th>\n",
       "      <td>14.462833</td>\n",
       "      <td>58.857625</td>\n",
       "      <td>1.805180</td>\n",
       "      <td>0.0</td>\n",
       "      <td>0.280571</td>\n",
       "    </tr>\n",
       "    <tr>\n",
       "      <th>min</th>\n",
       "      <td>0.000000</td>\n",
       "      <td>0.000000</td>\n",
       "      <td>0.000000</td>\n",
       "      <td>4.0</td>\n",
       "      <td>0.000000</td>\n",
       "    </tr>\n",
       "    <tr>\n",
       "      <th>25%</th>\n",
       "      <td>0.000000</td>\n",
       "      <td>0.000000</td>\n",
       "      <td>2.000000</td>\n",
       "      <td>4.0</td>\n",
       "      <td>0.166667</td>\n",
       "    </tr>\n",
       "    <tr>\n",
       "      <th>50%</th>\n",
       "      <td>0.000000</td>\n",
       "      <td>1.000000</td>\n",
       "      <td>3.000000</td>\n",
       "      <td>4.0</td>\n",
       "      <td>0.426627</td>\n",
       "    </tr>\n",
       "    <tr>\n",
       "      <th>75%</th>\n",
       "      <td>1.000000</td>\n",
       "      <td>3.000000</td>\n",
       "      <td>5.000000</td>\n",
       "      <td>4.0</td>\n",
       "      <td>0.600000</td>\n",
       "    </tr>\n",
       "    <tr>\n",
       "      <th>max</th>\n",
       "      <td>499.000000</td>\n",
       "      <td>1777.000000</td>\n",
       "      <td>6.000000</td>\n",
       "      <td>4.0</td>\n",
       "      <td>1.000000</td>\n",
       "    </tr>\n",
       "  </tbody>\n",
       "</table>\n",
       "</div>"
      ],
      "text/plain": [
       "           retweet    favorites          day   month  sentiment_subjectivity\n",
       "count  1954.000000  1954.000000  1954.000000  1954.0             1954.000000\n",
       "mean      2.068066     6.750768     3.186285     4.0                0.410699\n",
       "std      14.462833    58.857625     1.805180     0.0                0.280571\n",
       "min       0.000000     0.000000     0.000000     4.0                0.000000\n",
       "25%       0.000000     0.000000     2.000000     4.0                0.166667\n",
       "50%       0.000000     1.000000     3.000000     4.0                0.426627\n",
       "75%       1.000000     3.000000     5.000000     4.0                0.600000\n",
       "max     499.000000  1777.000000     6.000000     4.0                1.000000"
      ]
     },
     "execution_count": 10,
     "metadata": {},
     "output_type": "execute_result"
    }
   ],
   "source": [
    "df.describe()"
   ]
  },
  {
   "cell_type": "code",
   "execution_count": null,
   "metadata": {},
   "outputs": [],
   "source": [
    "df.plot(kind='scatter',x='sentiment_polarity',y='favorites',color='red')"
   ]
  },
  {
   "cell_type": "code",
   "execution_count": null,
   "metadata": {},
   "outputs": [],
   "source": [
    "df.plot(kind='scatter',x='sentiment_polarity',y='retweets',color='red')"
   ]
  },
  {
   "cell_type": "code",
   "execution_count": null,
   "metadata": {},
   "outputs": [],
   "source": [
    "df.plot(kind='scatter',x='sentiment_subjectivity',y='sentiment_polarity',color='red')"
   ]
  },
  {
   "cell_type": "code",
   "execution_count": null,
   "metadata": {},
   "outputs": [],
   "source": [
    "df.plot(kind='scatter',x='sentiment_subjectivity',y='retweets',color='red')"
   ]
  },
  {
   "cell_type": "markdown",
   "metadata": {},
   "source": [
    "# Removing Outliers"
   ]
  },
  {
   "cell_type": "code",
   "execution_count": null,
   "metadata": {},
   "outputs": [],
   "source": [
    "#Identify Outliers\n",
    "\n",
    "#Favorites\n",
    "df.loc[df['favorites']>6000]"
   ]
  },
  {
   "cell_type": "code",
   "execution_count": null,
   "metadata": {},
   "outputs": [],
   "source": [
    "mostPopular = df.iloc[0]['full_text']\n",
    "\n",
    "tb = Blobber(analyzer=NaiveBayesAnalyzer())\n",
    "\n",
    "print(tb(\"sentence you want to test\"))\n",
    "\n",
    "pol=posNB(mostPopular)\n",
    "print(\"Pos Polarity: \" + str(pol))\n",
    "pol=negNB(mostPopular)\n",
    "print(\"Neg Polarity: \" + str(pol))\n",
    "\n",
    "popularWords = mostPopular.split()\n",
    "\n",
    "#for w in popularWords:\n",
    "#    print(\"Word: \" + w)\n",
    "#    pol=polarity2(w)\n",
    "#    print(\"Polarity: \" + str(pol))\n",
    "    #sub=subjectivity(w)\n",
    "    #print(\"Subjectivity: \" + str(sub))"
   ]
  },
  {
   "cell_type": "code",
   "execution_count": null,
   "metadata": {},
   "outputs": [],
   "source": [
    "df=df.drop(0)\n",
    "df=df.drop(1)"
   ]
  },
  {
   "cell_type": "code",
   "execution_count": null,
   "metadata": {},
   "outputs": [],
   "source": [
    "df.plot(kind='scatter',x='sentiment_polarity',y='retweets',color='red')"
   ]
  },
  {
   "cell_type": "code",
   "execution_count": null,
   "metadata": {},
   "outputs": [],
   "source": [
    "df.loc[df['retweets']>2000]"
   ]
  },
  {
   "cell_type": "code",
   "execution_count": null,
   "metadata": {},
   "outputs": [],
   "source": [
    "df=df.drop(2)\n",
    "df.plot(kind='scatter',x='sentiment_polarity',y='retweets',color='red')"
   ]
  },
  {
   "cell_type": "code",
   "execution_count": null,
   "metadata": {},
   "outputs": [],
   "source": [
    "df.describe()"
   ]
  },
  {
   "cell_type": "code",
   "execution_count": null,
   "metadata": {
    "scrolled": true
   },
   "outputs": [],
   "source": [
    "dfNeut=df.loc[df['sentiment_polarity']==0]\n",
    "dfNeut.describe()"
   ]
  },
  {
   "cell_type": "code",
   "execution_count": null,
   "metadata": {},
   "outputs": [],
   "source": [
    "dfNeg=df.loc[df['sentiment_polarity']<0]\n",
    "dfNeg.describe()"
   ]
  },
  {
   "cell_type": "code",
   "execution_count": null,
   "metadata": {},
   "outputs": [],
   "source": [
    "dfNeg.plot(kind='scatter',x='sentiment_polarity',y='retweets',color='red')"
   ]
  },
  {
   "cell_type": "code",
   "execution_count": null,
   "metadata": {},
   "outputs": [],
   "source": [
    "dfPos=df.loc[df['sentiment_polarity']>0]\n",
    "dfPos.describe()"
   ]
  },
  {
   "cell_type": "code",
   "execution_count": null,
   "metadata": {},
   "outputs": [],
   "source": [
    "dfPos.plot(kind='scatter',x='sentiment_polarity',y='retweets',color='red')"
   ]
  },
  {
   "cell_type": "code",
   "execution_count": null,
   "metadata": {},
   "outputs": [],
   "source": [
    "fig5, box = plt.subplots()\n",
    "box.boxplot(df['sentiment_subjectivity'], vert=False)"
   ]
  },
  {
   "cell_type": "code",
   "execution_count": null,
   "metadata": {},
   "outputs": [],
   "source": [
    "fig5, box = plt.subplots()\n",
    "box.boxplot(df['sentiment_polarity'], vert=False)"
   ]
  },
  {
   "cell_type": "markdown",
   "metadata": {},
   "source": [
    "# Keywords"
   ]
  },
  {
   "cell_type": "code",
   "execution_count": null,
   "metadata": {},
   "outputs": [],
   "source": [
    "dfWomen=df[df['clean_tweet'].str.contains('women')]\n",
    "\n",
    "dfFemale=df[df['clean_tweet'].str.contains('female')]\n",
    "\n",
    "dfGirl=df[df['clean_tweet'].str.contains('girl')]"
   ]
  },
  {
   "cell_type": "code",
   "execution_count": null,
   "metadata": {},
   "outputs": [],
   "source": [
    "#https://machinelearningmastery.com/parametric-statistical-significance-tests-in-python/\n",
    "\n",
    "from scipy.stats import f_oneway\n",
    "\n",
    "# compare samples\n",
    "stat, p = f_oneway(dfWomen['sentiment_polarity'], dfFemale['sentiment_polarity'], dfGirl['sentiment_polarity'])\n",
    "print('Statistics=%.3f, p=%.3f' % (stat, p))\n",
    "# interpret\n",
    "alpha = 0.05\n",
    "if p > alpha:\n",
    "\tprint('Same distributions (fail to reject H0)')\n",
    "else:\n",
    "\tprint('Different distributions (reject H0)')"
   ]
  },
  {
   "cell_type": "code",
   "execution_count": null,
   "metadata": {},
   "outputs": [],
   "source": [
    "print('Women')\n",
    "print(dfWomen['sentiment_polarity'].mean())\n",
    "print('Female')\n",
    "print(dfFemale['sentiment_polarity'].mean())\n",
    "print('Girl')\n",
    "print(dfGirl['sentiment_polarity'].mean())"
   ]
  },
  {
   "cell_type": "code",
   "execution_count": null,
   "metadata": {},
   "outputs": [],
   "source": [
    "dfWomen.plot(kind='scatter',x='sentiment_polarity',y='favorites',color='red')"
   ]
  },
  {
   "cell_type": "code",
   "execution_count": null,
   "metadata": {},
   "outputs": [],
   "source": [
    "dfFemale.plot(kind='scatter',x='sentiment_polarity',y='favorites',color='green')"
   ]
  },
  {
   "cell_type": "code",
   "execution_count": null,
   "metadata": {},
   "outputs": [],
   "source": [
    "dfGirl.plot(kind='scatter',x='sentiment_polarity',y='favorites',color='blue')"
   ]
  },
  {
   "cell_type": "markdown",
   "metadata": {},
   "source": [
    "# Polarity"
   ]
  },
  {
   "cell_type": "code",
   "execution_count": null,
   "metadata": {},
   "outputs": [],
   "source": [
    "fig5, box = plt.subplots()\n",
    "box.boxplot(df['sentiment_polarity'], vert=False)"
   ]
  },
  {
   "cell_type": "markdown",
   "metadata": {},
   "source": [
    "# Date/Time"
   ]
  },
  {
   "cell_type": "code",
   "execution_count": null,
   "metadata": {},
   "outputs": [],
   "source": [
    "df2=df.groupby('dayNum').mean()[['sentiment_polarity']]\n",
    "df2.reset_index()\n",
    "df2['dayNum']=df2.index\n",
    "\n",
    "df2.plot(kind='line',x='dayNum',y='sentiment_polarity',color='red')"
   ]
  },
  {
   "cell_type": "code",
   "execution_count": null,
   "metadata": {},
   "outputs": [],
   "source": [
    "print(\"March 3: Sunday\")\n",
    "print(\"March 19: Tuesday\")\n",
    "print(\"March 20: Wednesday\")\n",
    "print(\"March 23: Saturday\")\n",
    "print(\"March 24: Sunday\")\n",
    "print(\"March 27: Wednesday\")"
   ]
  },
  {
   "cell_type": "code",
   "execution_count": null,
   "metadata": {},
   "outputs": [],
   "source": [
    "df2.describe()"
   ]
  },
  {
   "cell_type": "code",
   "execution_count": null,
   "metadata": {},
   "outputs": [],
   "source": [
    "df = df.sort_values(by=\"sentiment_polarity\")\n",
    "df = df.reset_index(drop=True)\n",
    "df.loc[df['dayNum']==\"03\"]"
   ]
  },
  {
   "cell_type": "code",
   "execution_count": null,
   "metadata": {},
   "outputs": [],
   "source": [
    "df2=df.groupby('day').mean()[['sentiment_polarity']]\n",
    "df2.reset_index()\n",
    "df2['day']=df2.index\n",
    "df2.plot(kind='line',x='day',y='sentiment_polarity',color='red')"
   ]
  },
  {
   "cell_type": "code",
   "execution_count": null,
   "metadata": {},
   "outputs": [],
   "source": [
    "df.loc[df['day']==3]"
   ]
  },
  {
   "cell_type": "markdown",
   "metadata": {},
   "source": [
    "# Wordcloud"
   ]
  },
  {
   "cell_type": "code",
   "execution_count": null,
   "metadata": {},
   "outputs": [],
   "source": [
    "text = \" \".join(tweet for tweet in df.full_text)\n",
    "#text = \" \".join(tweet for tweet in df.full_text)\n",
    "print (\"There are {} words in the combination of all review.\".format(len(text)))"
   ]
  },
  {
   "cell_type": "code",
   "execution_count": null,
   "metadata": {},
   "outputs": [],
   "source": [
    "# Create stopword list:\n",
    "stopwords = set(STOPWORDS)\n",
    "stopwords.update([\"https\", \"co\",\"amp\",\"Äô\",\"Äôs\",\"Äù\"])\n",
    "\n",
    "# Generate a word cloud image\n",
    "wordcloud = WordCloud(stopwords=stopwords, background_color=\"white\").generate(text)\n",
    "\n",
    "# Display the generated image:\n",
    "# the matplotlib way:\n",
    "plt.imshow(wordcloud, interpolation='bilinear')\n",
    "plt.axis(\"off\")\n",
    "plt.show()"
   ]
  },
  {
   "cell_type": "code",
   "execution_count": null,
   "metadata": {},
   "outputs": [],
   "source": [
    "stopwords.update([\"https\", \"co\",\"amp\",\"Äô\",\"Äôs\",\"Äôt\",\"Äù\",\"women\",\"girl\",\"female\"])\n",
    "\n",
    "# Generate a word cloud image\n",
    "wordcloud = WordCloud(stopwords=stopwords, background_color=\"white\").generate(text)\n",
    "\n",
    "# Display the generated image:\n",
    "# the matplotlib way:\n",
    "plt.imshow(wordcloud, interpolation='bilinear')\n",
    "plt.axis(\"off\")\n",
    "plt.show()"
   ]
  },
  {
   "cell_type": "code",
   "execution_count": null,
   "metadata": {},
   "outputs": [],
   "source": [
    "text = \" \".join(tweet for tweet in df.full_text[df['sentiment_polarity']<0])\n",
    "#text = \" \".join(tweet for tweet in df.full_text)\n",
    "print (\"There are {} words in the combination of all review.\".format(len(text)))\n",
    "stopwords.update([\"https\", \"co\",\"amp\",\"Äô\",\"Äôs\",\"Äù\",\"Äôt\",\n",
    "                  \"women\",\"girl\",\"female\", \"tech\", \"technology\",\n",
    "                  \"computer\",\"men\",\"one\",\"know\",\"people\",\"will\"])\n",
    "\n",
    "# Generate a word cloud image\n",
    "wordcloud = WordCloud(stopwords=stopwords, background_color=\"white\").generate(text)\n",
    "\n",
    "# Display the generated image:\n",
    "# the matplotlib way:\n",
    "plt.imshow(wordcloud, interpolation='bilinear')\n",
    "plt.axis(\"off\")\n",
    "plt.show()"
   ]
  },
  {
   "cell_type": "code",
   "execution_count": null,
   "metadata": {},
   "outputs": [],
   "source": []
  }
 ],
 "metadata": {
  "kernelspec": {
   "display_name": "Python 3",
   "language": "python",
   "name": "python3"
  },
  "language_info": {
   "codemirror_mode": {
    "name": "ipython",
    "version": 3
   },
   "file_extension": ".py",
   "mimetype": "text/x-python",
   "name": "python",
   "nbconvert_exporter": "python",
   "pygments_lexer": "ipython3",
   "version": "3.7.2"
  }
 },
 "nbformat": 4,
 "nbformat_minor": 2
}
